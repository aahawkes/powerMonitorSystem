{
 "cells": [
  {
   "cell_type": "markdown",
   "metadata": {},
   "source": [
    "#### The following script uses the PicoSDK & Picotech's python wrappers to implement the Picoscope's streaming mode. <br> https://www.picotech.com/downloads <br> https://github.com/picotech/picosdk-python-wrappers"
   ]
  },
  {
   "cell_type": "markdown",
   "metadata": {},
   "source": [
    "## Set Up"
   ]
  },
  {
   "cell_type": "markdown",
   "metadata": {},
   "source": [
    "#### Import Libraries"
   ]
  },
  {
   "cell_type": "code",
   "execution_count": 1,
   "metadata": {},
   "outputs": [],
   "source": [
    "import ctypes\n",
    "import numpy as np\n",
    "from picosdk.ps5000a import ps5000a as ps\n",
    "import matplotlib.pyplot as plt\n",
    "import time\n",
    "import datetime\n",
    "import os\n",
    "from scipy.signal import hilbert\n",
    "from scipy.io import savemat\n",
    "from scipy import signal\n",
    "from picosdk.functions import adc2mV, assert_pico_ok, mV2adc\n",
    "from IPython import display\n",
    "from zipfile import ZipFile\n",
    "np.set_printoptions(threshold=np.inf)"
   ]
  },
  {
   "cell_type": "markdown",
   "metadata": {},
   "source": [
    "#### Experiment-Dependent Inputs"
   ]
  },
  {
   "cell_type": "code",
   "execution_count": 2,
   "metadata": {},
   "outputs": [],
   "source": [
    "amplitudeRange = 233 # mVpp"
   ]
  },
  {
   "cell_type": "markdown",
   "metadata": {},
   "source": [
    "#### Calibration-Dependent Inputs"
   ]
  },
  {
   "cell_type": "code",
   "execution_count": 3,
   "metadata": {},
   "outputs": [],
   "source": [
    "# If reclibrated - replace value below with new Average Amp value in excel sheet\n",
    "totalAmplification = 4.78 # dB\n",
    "\n",
    "# If recalibrated - replace equation below with line of best fit between Vin and peak Vcouple \n",
    "expectedPeakVolts = ((0.8628*amplitudeRange) +  0.1018) # millivolts\n",
    "\n",
    "# If recalibrated - replace equation below with line of best fit between Vin and PNP in Pa\n",
    "expectedPNP =  int((5151.5*amplitudeRange) - 1353.3) # Pascals\n",
    "\n",
    "# If recalibrated - replace values below with values from line of best fit between Vcouple and PNP in Pa\n",
    "acquiredPNPslope = 5969 # slope for line of best of fit between Vcouple and pressure in pascals\n",
    "acquiredPNPintercept = 797.39 # y-int for line of best of fit between Vcouple and pressure in pascals"
   ]
  },
  {
   "cell_type": "markdown",
   "metadata": {},
   "source": [
    "#### Fixed Inputs"
   ]
  },
  {
   "cell_type": "code",
   "execution_count": 4,
   "metadata": {},
   "outputs": [],
   "source": [
    "# Constants\n",
    "lengthOfAcq = 40 # length of acquisition in seconds\n",
    "samplingRate = 15e05 # sampling rate of signal in Hz\n",
    "totalSamples = int(samplingRate*lengthOfAcq) # total number of samples collected during acquisition\n",
    "numBuffersToCapture = lengthOfAcq # number of buffers set to equal length of acq so there is one buffer per second\n",
    "sizeOfOneBuffer = int(totalSamples/numBuffersToCapture) # number of samples collected in each buffer\n",
    "dsf = 1000 # downsampling factor to be used in hilbert envelope\n",
    "\n",
    "# Waveform Characteristics: dont change unless using different waveform \n",
    "freq = 250 # kHz\n",
    "burstPeriod = 0.03 # burst of ultrasound in seconds\n",
    "lengthOfOneCylce = 0.1 # total time for each cycle in seconds, each 30ms burst occurs every 100ms\n",
    "noOfCylces = burstPeriod*freq*1e-03 # number of cylces per burst\n",
    "dutyCycle = (burstPeriod/lengthOfOneCylce) # in decimals, duty cycle of bursts as a ratio"
   ]
  },
  {
   "cell_type": "markdown",
   "metadata": {},
   "source": [
    "## Set up PicoScope parameters"
   ]
  },
  {
   "cell_type": "markdown",
   "metadata": {},
   "source": [
    "#### Set up Picoscope"
   ]
  },
  {
   "cell_type": "code",
   "execution_count": 4,
   "metadata": {},
   "outputs": [],
   "source": [
    "# Create chandle and status ready for use\n",
    "chandle = ctypes.c_int16()\n",
    "status = {}\n",
    "\n",
    "# Open PicoScope 5000 Series device\n",
    "resolution =ps.PS5000A_DEVICE_RESOLUTION[\"PS5000A_DR_12BIT\"] # Resolution set to 12 Bit\n",
    "status[\"openunit\"] = ps.ps5000aOpenUnit(ctypes.byref(chandle), None, resolution) # handle to chandle for use in API functions\n",
    "\n",
    "try:\n",
    "    assert_pico_ok(status[\"openunit\"])\n",
    "except: # PicoNotOkError:\n",
    "\n",
    "    powerStatus = status[\"openunit\"]\n",
    "\n",
    "    if powerStatus == 286:\n",
    "        status[\"changePowerSource\"] = ps.ps5000aChangePowerSource(chandle, powerStatus)\n",
    "    elif powerStatus == 282:\n",
    "        status[\"changePowerSource\"] = ps.ps5000aChangePowerSource(chandle, powerStatus)\n",
    "    else:\n",
    "        raise\n",
    "\n",
    "    assert_pico_ok(status[\"changePowerSource\"])"
   ]
  },
  {
   "cell_type": "markdown",
   "metadata": {},
   "source": [
    "#### Set up ChA for acquisition"
   ]
  },
  {
   "cell_type": "code",
   "execution_count": 6,
   "metadata": {},
   "outputs": [],
   "source": [
    "# Constants\n",
    "enabled = 1\n",
    "disabled = 0\n",
    "analogue_offset = 0.0\n",
    "channel_range = ps.PS5000A_RANGE['PS5000A_500MV']\n",
    "\n",
    "status[\"setChA\"] = ps.ps5000aSetChannel(chandle,\n",
    "                                        ps.PS5000A_CHANNEL['PS5000A_CHANNEL_A'],\n",
    "                                        enabled,\n",
    "                                        ps.PS5000A_COUPLING['PS5000A_DC'],\n",
    "                                        channel_range,\n",
    "                                        analogue_offset)\n",
    "assert_pico_ok(status[\"setChA\"])"
   ]
  },
  {
   "cell_type": "markdown",
   "metadata": {},
   "source": [
    "#### Set up buffers for data acquisition"
   ]
  },
  {
   "cell_type": "code",
   "execution_count": 7,
   "metadata": {},
   "outputs": [],
   "source": [
    "# Set up Buffer A on Channel A\n",
    "bufferAMax = np.zeros(shape=sizeOfOneBuffer, dtype=np.int16) # Create buffer array for data collection\n",
    "memory_segment = 0\n",
    "status[\"setDataBuffersA\"] = ps.ps5000aSetDataBuffers(chandle,\n",
    "                                                     ps.PS5000A_CHANNEL['PS5000A_CHANNEL_A'],\n",
    "                                                     bufferAMax.ctypes.data_as(ctypes.POINTER(ctypes.c_int16)),\n",
    "                                                     None,\n",
    "                                                     totalSamples,\n",
    "                                                     memory_segment,\n",
    "                                                     ps.PS5000A_RATIO_MODE['PS5000A_RATIO_MODE_NONE'])\n",
    "assert_pico_ok(status[\"setDataBuffersA\"])"
   ]
  },
  {
   "cell_type": "markdown",
   "metadata": {},
   "source": [
    "## Start streaming on the picoscope & data acquisition"
   ]
  },
  {
   "cell_type": "markdown",
   "metadata": {},
   "source": [
    "#### Set up trigger that occurs at first detected rising edge"
   ]
  },
  {
   "cell_type": "code",
   "execution_count": 8,
   "metadata": {},
   "outputs": [],
   "source": [
    "# Set up mV Conversion\n",
    "maxADC = ctypes.c_int16()\n",
    "status[\"maximumValue\"] = ps.ps5000aMaximumValue(chandle, ctypes.byref(maxADC))\n",
    "assert_pico_ok(status[\"maximumValue\"])"
   ]
  },
  {
   "cell_type": "code",
   "execution_count": 9,
   "metadata": {},
   "outputs": [],
   "source": [
    "# Set up single trigger\n",
    "enabled = 1\n",
    "source = ps.PS5000A_CHANNEL[\"PS5000A_EXTERNAL\"] # trigger on the external channel on the picoscope\n",
    "threshold = int(mV2adc(20,channel_range, maxADC)) # threshold set to 20 mV\n",
    "direction = 2 # PS5000A_RISING, trigger on the rising edge\n",
    "delay = 0 # no delay between trigger and rising edge\n",
    "autoTrigger = 0 # set to 0, makes picoscope wait indefinitely for a rising edge\n",
    "status[\"trigger\"] = ps.ps5000aSetSimpleTrigger(chandle, \n",
    "                                               enabled, \n",
    "                                               source, \n",
    "                                               threshold, \n",
    "                                               direction, \n",
    "                                               delay, \n",
    "                                               autoTrigger)\n",
    "assert_pico_ok(status[\"trigger\"])"
   ]
  },
  {
   "cell_type": "markdown",
   "metadata": {},
   "source": [
    "#### Begin streaming mode on PicoScope"
   ]
  },
  {
   "cell_type": "code",
   "execution_count": 10,
   "metadata": {},
   "outputs": [],
   "source": [
    "sampleInterval = ctypes.c_int16(int((1/samplingRate)*1e09)) # sampling interval in nanoseconds\n",
    "sampleUnits = ps.PS5000A_TIME_UNITS['PS5000A_NS']\n",
    "maxPreTriggerSamples = 0 # no samples collected before the trigger\n",
    "autoStopOn = 1\n",
    "downsampleRatio = 1 # no downsampling\n",
    "status[\"runStreaming\"] = ps.ps5000aRunStreaming(chandle,\n",
    "                                                ctypes.byref(sampleInterval),\n",
    "                                                sampleUnits,\n",
    "                                                maxPreTriggerSamples,\n",
    "                                                totalSamples,\n",
    "                                                autoStopOn,\n",
    "                                                downsampleRatio,\n",
    "                                                ps.PS5000A_RATIO_MODE['PS5000A_RATIO_MODE_NONE'],\n",
    "                                                sizeOfOneBuffer)\n",
    "assert_pico_ok(status[\"runStreaming\"])"
   ]
  },
  {
   "cell_type": "markdown",
   "metadata": {},
   "source": [
    "#### Define callback function that acquires and reports signal data"
   ]
  },
  {
   "cell_type": "code",
   "execution_count": 11,
   "metadata": {},
   "outputs": [],
   "source": [
    "# Set up variables for loop\n",
    "bufferCompleteA = np.zeros(shape=totalSamples, dtype=np.int16) # buffer not registered with driver to hold all of buffers collected\n",
    "nextSample = 0\n",
    "autoStopOuter = False\n",
    "wasCalledBack = False\n",
    "bufferEnd = [0]\n",
    "rmsArray = []\n",
    "timeArray = []\n",
    "count = 0\n",
    "\n",
    "def streaming_callback(handle, noOfSamples, startIndex, overflow, triggerAt, triggered, autoStop, param):\n",
    "    global nextSample, autoStopOuter, wasCalledBack, count, trigIdx, rmsExpected\n",
    "    # Prevent loop from continuing until a trigger is detected\n",
    "    if triggered!=0:\n",
    "        trigIdx = triggerAt\n",
    "        count=1\n",
    "    # Once trigger is detected, move forward with indexing\n",
    "    if count==1:\n",
    "        wasCalledBack = True\n",
    "        sourceEnd = startIndex + noOfSamples\n",
    "        noOfSamplesPostTrigger = noOfSamples-triggerAt\n",
    "        destEnd = nextSample + noOfSamplesPostTrigger\n",
    "        bufferCompleteA[nextSample:destEnd] = bufferAMax[(startIndex+triggerAt):sourceEnd]\n",
    "        # Compute, store, and plot the RMS voltages for every # data points equal to sampling rate\n",
    "        if sourceEnd==sizeOfOneBuffer:\n",
    "            bufferEnd.append(destEnd)                    \n",
    "            rmsBuffer = bufferCompleteA[bufferEnd[-2]:bufferEnd[-1]] # select values from each complete buffer as acquired\n",
    "            # Calculate RMS voltage for each buffer that should be seen on real-time plot below\n",
    "            rmsExpected = (((amplitudeRange/2)*(10**(totalAmplification/20)))/np.sqrt(2))*np.sqrt(dutyCycle) # mVp\n",
    "            # Calculate RMS voltage being measured for each buffer\n",
    "            rms = [np.sqrt(np.mean(np.array(rmsBuffer, dtype='int64')**2))] # compute RMS Voltage of each buffer from ChA\n",
    "            rmsVoltage = adc2mV(rms, channel_range, maxADC) # function that converts bits to voltages from ChA\n",
    "            rmsArray.append(rmsVoltage) # build array of each RMS voltage from Channel A\n",
    "            time = (lengthOfAcq/numBuffersToCapture)*len(rmsArray) \n",
    "            timeArray.append(time)\n",
    "            # Plot in real-time\n",
    "            plt.plot(timeArray, rmsArray,'k-')\n",
    "            plt.xlabel('Time (s)')\n",
    "            plt.ylabel('Voltage (mV)')\n",
    "            plt.title(\"RMS Voltage that Should be Expected is ~ %0.2f mV\" %rmsExpected)            \n",
    "            display.display(plt.gcf())\n",
    "            display.clear_output(wait=True)\n",
    "        nextSample += noOfSamplesPostTrigger\n",
    "        if autoStop:\n",
    "            autoStopOuter = True\n",
    "            \n",
    "cFuncPtr = ps.StreamingReadyType(streaming_callback) # Convert the python function into a C function pointer."
   ]
  },
  {
   "cell_type": "markdown",
   "metadata": {},
   "source": [
    "#### Run loop that collects complete buffer data and RMS voltages for each buffer"
   ]
  },
  {
   "cell_type": "code",
   "execution_count": 12,
   "metadata": {
    "scrolled": false
   },
   "outputs": [
    {
     "data": {
      "image/png": "[encoded data removed]",
      "text/plain": [
       "<Figure size 432x288 with 1 Axes>"
      ]
     },
     "metadata": {
      "needs_background": "light"
     },
     "output_type": "display_data"
    }
   ],
   "source": [
    "# While loop to collect data and perform desired calculations and plots\n",
    "while nextSample < totalSamples and not autoStopOuter:\n",
    "    wasCalledBack = False\n",
    "    status[\"getStreamingLastestValues\"] = ps.ps5000aGetStreamingLatestValues(chandle, cFuncPtr, None)\n",
    "\n",
    "# Plot RMS voltages at the end to keep plot visible to user\n",
    "fig1 = plt.figure(1);\n",
    "plt.plot(timeArray, rmsArray,'k-');\n",
    "plt.xlabel('Time (s)');\n",
    "plt.ylabel('Voltage (mV)');\n",
    "plt.title(\"RMS Voltage Visualized Below Should be CLose to %0.2f mV\" %rmsExpected);"
   ]
  },
  {
   "cell_type": "markdown",
   "metadata": {},
   "source": [
    "#### Disconnect from the Picoscope so that new kernel may be connected to the Picoscope"
   ]
  },
  {
   "cell_type": "code",
   "execution_count": 13,
   "metadata": {},
   "outputs": [],
   "source": [
    "# Stop the scope\n",
    "status[\"stop\"] = ps.ps5000aStop(chandle)\n",
    "assert_pico_ok(status[\"stop\"])\n",
    "\n",
    "# Disconnect the scope\n",
    "status[\"close\"] = ps.ps5000aCloseUnit(chandle)\n",
    "assert_pico_ok(status[\"close\"])"
   ]
  },
  {
   "cell_type": "markdown",
   "metadata": {},
   "source": [
    "## Post-processing"
   ]
  },
  {
   "cell_type": "markdown",
   "metadata": {},
   "source": [
    "#### Extract the envelope of the signal from ChA using the Hilbert Function"
   ]
  },
  {
   "cell_type": "code",
   "execution_count": 14,
   "metadata": {},
   "outputs": [],
   "source": [
    "analytical_signal = hilbert(bufferCompleteA)\n",
    "amplitude_envelope = np.abs(analytical_signal)"
   ]
  },
  {
   "cell_type": "markdown",
   "metadata": {},
   "source": [
    "#### Downsample voltage data and time array for plotting"
   ]
  },
  {
   "cell_type": "code",
   "execution_count": 15,
   "metadata": {},
   "outputs": [],
   "source": [
    "amplitude_ds = signal.resample_poly(amplitude_envelope,1,dsf) # signal.resample_poly(chA data, upsamplefactor, downsamplefactor)\n",
    "time = np.linspace(0,lengthOfAcq,totalSamples) # time array in seconds\n",
    "time_ds = signal.resample_poly(time,1,dsf) # downsample time array by same factor"
   ]
  },
  {
   "cell_type": "markdown",
   "metadata": {},
   "source": [
    "#### Convert downsampled data from adc values to voltages"
   ]
  },
  {
   "cell_type": "code",
   "execution_count": 16,
   "metadata": {},
   "outputs": [],
   "source": [
    "adc2mVChAMax = adc2mV(amplitude_ds, channel_range, maxADC) # function that converts to voltages"
   ]
  },
  {
   "cell_type": "markdown",
   "metadata": {},
   "source": [
    "#### Plot envelop of signal from ChA"
   ]
  },
  {
   "cell_type": "code",
   "execution_count": 18,
   "metadata": {},
   "outputs": [
    {
     "name": "stdout",
     "output_type": "stream",
     "text": [
      "Peak voltage that should be expected is ~ 43.2 mVpp\n"
     ]
    },
    {
     "data": {
      "image/png": "[encoded data removed]",
      "text/plain": [
       "<Figure size 432x288 with 1 Axes>"
      ]
     },
     "metadata": {
      "needs_background": "light"
     },
     "output_type": "display_data"
    },
    {
     "data": {
      "image/png": "[encoded data removed]",
      "text/plain": [
       "<Figure size 432x288 with 1 Axes>"
      ]
     },
     "metadata": {
      "needs_background": "light"
     },
     "output_type": "display_data"
    }
   ],
   "source": [
    "print(\"Peak voltage that should be expected is ~ %0.1f mV\" %expectedPeakVolts)\n",
    "\n",
    "# Plot hilbert envelope of the full signal\n",
    "fig2 = plt.figure(2);\n",
    "plt.plot(time_ds,adc2mVChAMax);\n",
    "plt.xlabel('Time (s)');\n",
    "plt.ylabel('Voltage (mV)');\n",
    "plt.title('Envelop of '+str(freq)+ ' kHZ signal w/ ' +str(dutyCycle*100)+'% duty cylce');\n",
    "# Plot hilbert envelope of part of signal\n",
    "fig3 = plt.figure(3);\n",
    "plt.plot(time_ds[0:500]*1000,adc2mVChAMax[0:500]);\n",
    "plt.xlabel('Time (ms)');\n",
    "plt.ylabel('Voltage (mV)');\n",
    "plt.title('Envelop of Part of ' +str(freq)+ ' kHZ Signal w/ ' +str(dutyCycle*100)+ '% duty cylce');"
   ]
  },
  {
   "cell_type": "markdown",
   "metadata": {},
   "source": [
    "## Compare predicted peak voltages, RMS voltage, & pressure values to acquired data"
   ]
  },
  {
   "cell_type": "markdown",
   "metadata": {},
   "source": [
    "#### Compare acquired peak voltages to peak voltages that should be seen for the complete signal"
   ]
  },
  {
   "cell_type": "code",
   "execution_count": 19,
   "metadata": {},
   "outputs": [
    {
     "name": "stdout",
     "output_type": "stream",
     "text": [
      "Peak voltage that should be expected is ~ 43.2 mVpp\n"
     ]
    }
   ],
   "source": [
    "print(\"Peak voltage that should be expected is ~ %0.1f mV\" %expectedPeakVolts)"
   ]
  },
  {
   "cell_type": "code",
   "execution_count": 20,
   "metadata": {},
   "outputs": [
    {
     "name": "stdout",
     "output_type": "stream",
     "text": [
      "Peak Voltage of acquired signal is ~ 45.0 mVpp\n"
     ]
    }
   ],
   "source": [
    "peakVoltADC = [max(bufferCompleteA)] # collect max voltage in buffer array as estimate for peak voltage of the array\n",
    "acquiredPeakVolts = adc2mV(peakVoltADC, channel_range, maxADC)\n",
    "acquiredPeakVolts = acquiredPeakVolts[0]\n",
    "\n",
    "# This value will be slightly higher than predicted and than is seen in the plot above becuase it collects the buffer's \n",
    "    # overall max amplitude value and uses that as the \"peak voltage\" value\n",
    "print(\"Peak Voltage of acquired signal is ~ %0.1f mV\" %acquiredPeakVolts)"
   ]
  },
  {
   "cell_type": "code",
   "execution_count": 21,
   "metadata": {},
   "outputs": [],
   "source": [
    "voltageVals = [expectedPeakVolts, acquiredPeakVolts]"
   ]
  },
  {
   "cell_type": "markdown",
   "metadata": {},
   "source": [
    "#### Compare acquired RMS voltage to correct RMS voltage"
   ]
  },
  {
   "cell_type": "code",
   "execution_count": 22,
   "metadata": {},
   "outputs": [
    {
     "name": "stdout",
     "output_type": "stream",
     "text": [
      "RMS Voltage that should be expected is ~ 17.4 mVpp\n"
     ]
    }
   ],
   "source": [
    "rmsExpected = (((amplitudeRange/2)*10**(totalAmplification/20))/np.sqrt(2))*np.sqrt(dutyCycle) # expected val\n",
    "print(\"RMS Voltage that should be expected is ~ %0.1f mV\" %rmsExpected)"
   ]
  },
  {
   "cell_type": "code",
   "execution_count": 23,
   "metadata": {},
   "outputs": [
    {
     "name": "stdout",
     "output_type": "stream",
     "text": [
      "Average RMS Voltage of acquired signal is ~ 16.8 mVpp\n"
     ]
    }
   ],
   "source": [
    "rmsActual = np.mean(rmsArray) # estimate measured rms voltage by taking average of rms values determined for each buffer\n",
    "\n",
    "# This value will be slightly lower than predicted above\n",
    "print(\"Average RMS Voltage of acquired signal is ~ %0.1f mV\" %rmsActual)"
   ]
  },
  {
   "cell_type": "code",
   "execution_count": 24,
   "metadata": {},
   "outputs": [],
   "source": [
    "rmsVals = [rmsExpected, rmsActual]"
   ]
  },
  {
   "cell_type": "markdown",
   "metadata": {},
   "source": [
    "#### Compare approximate acquired pressure to correct pressure values"
   ]
  },
  {
   "cell_type": "code",
   "execution_count": 25,
   "metadata": {},
   "outputs": [
    {
     "name": "stdout",
     "output_type": "stream",
     "text": [
      "Presure that should be expected at input voltage of 50 mVpp is ~ 256.221 kPa\n"
     ]
    }
   ],
   "source": [
    "print('Presure that should be expected at input voltage of ' +str(amplitudeRange)+ ' mVpp is ~ ' +str(expectedPNP/1000)+ ' kPa')"
   ]
  },
  {
   "cell_type": "code",
   "execution_count": 26,
   "metadata": {},
   "outputs": [
    {
     "name": "stdout",
     "output_type": "stream",
     "text": [
      "Pressure of acquired signal at input voltage of 50 mVpp is ~ 284.516 kPa\n"
     ]
    }
   ],
   "source": [
    "acquiredPNP = int((acquiredPNPslope*acquiredPeakVolts) + acquiredPNPintercept) # in pascals\n",
    "print('Pressure of acquired signal at input voltage of ' +str(amplitudeRange)+ ' mVpp is ~ ' +str(acquiredPNP/1000)+ ' kPa')"
   ]
  },
  {
   "cell_type": "code",
   "execution_count": 27,
   "metadata": {},
   "outputs": [],
   "source": [
    "pressureVals = [expectedPNP,acquiredPNP]"
   ]
  },
  {
   "cell_type": "markdown",
   "metadata": {},
   "source": [
    "## Save Buffer Data, Hilbert Envelop of Data & RMS Voltages for Each Buffer"
   ]
  },
  {
   "cell_type": "code",
   "execution_count": 28,
   "metadata": {},
   "outputs": [],
   "source": [
    "# save data to a .mat file as a struct holding time, voltages, correct peak voltage, rms voltage, and correct rms voltage\n",
    "mdic = {\"timeDataSEC\": time_ds, \"signalEnvelopeMV\": adc2mVChAMax, \"signalAmplitudeComparisonValMV\": voltageVals[0], \n",
    "        \"rmsDataMV\": rmsArray, \"rmsVoltageComparisonValMV\": rmsVals[0]}\n",
    "\n",
    "ct = datetime.datetime.now() \n",
    "timestamp = str(ct.strftime(\"%Y%m%d_%H%M%S\"))\n",
    "\n",
    "filename = \"completeData\"+timestamp+\".mat\"\n",
    "savemat(filename, mdic)\n",
    "\n",
    "# uncomment line below if need to rewrite folder, leave commented if want to collect files for each run\n",
    "#os.remove('Python.zip') \n",
    "\n",
    "zipObj = ZipFile('PowerMonitor.zip', 'a') # struct saved to a zip file named PowerMonitor.zip\n",
    "zipObj.write(filename)\n",
    "zipObj.close()\n",
    "os.remove(filename)"
   ]
  }
 ],
 "metadata": {
  "kernelspec": {
   "display_name": "Python 3",
   "language": "python",
   "name": "python3"
  },
  "language_info": {
   "codemirror_mode": {
    "name": "ipython",
    "version": 3
   },
   "file_extension": ".py",
   "mimetype": "text/x-python",
   "name": "python",
   "nbconvert_exporter": "python",
   "pygments_lexer": "ipython3",
   "version": "3.7.3"
  }
 },
 "nbformat": 4,
 "nbformat_minor": 2
}
